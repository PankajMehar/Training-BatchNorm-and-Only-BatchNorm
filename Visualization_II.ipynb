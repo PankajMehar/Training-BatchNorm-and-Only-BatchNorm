{
  "nbformat": 4,
  "nbformat_minor": 0,
  "metadata": {
    "colab": {
      "name": "Visualization",
      "provenance": [],
      "collapsed_sections": [],
      "include_colab_link": true
    },
    "kernelspec": {
      "display_name": "Python 3",
      "name": "python3"
    }
  },
  "cells": [
    {
      "cell_type": "markdown",
      "metadata": {
        "id": "view-in-github",
        "colab_type": "text"
      },
      "source": [
        "<a href=\"https://colab.research.google.com/github/sayakpaul/Training-BatchNorm-and-Only-BatchNorm/blob/master/Visualization_II.ipynb\" target=\"_parent\"><img src=\"https://colab.research.google.com/assets/colab-badge.svg\" alt=\"Open In Colab\"/></a>"
      ]
    },
    {
      "cell_type": "markdown",
      "metadata": {
        "id": "mD10sl5PlAHc",
        "colab_type": "text"
      },
      "source": [
        "References:\n",
        "- https://machinelearningmastery.com/how-to-visualize-filters-and-feature-maps-in-convolutional-neural-networks/"
      ]
    },
    {
      "cell_type": "code",
      "metadata": {
        "colab_type": "code",
        "id": "lIYdn1woOS1n",
        "outputId": "282562d6-200e-49d5-9d0c-baeef8be646a",
        "colab": {
          "base_uri": "https://localhost:8080/",
          "height": 34
        }
      },
      "source": [
        "import tensorflow as tf\n",
        "print(tf.__version__)"
      ],
      "execution_count": 1,
      "outputs": [
        {
          "output_type": "stream",
          "text": [
            "2.2.0\n"
          ],
          "name": "stdout"
        }
      ]
    },
    {
      "cell_type": "code",
      "metadata": {
        "id": "3mIUGzSI1Zqk",
        "colab_type": "code",
        "colab": {}
      },
      "source": [
        "!pip install wandb -q\n",
        "import wandb\n",
        "wandb.login()"
      ],
      "execution_count": 0,
      "outputs": []
    },
    {
      "cell_type": "code",
      "metadata": {
        "id": "ElQoPqrB33BY",
        "colab_type": "code",
        "colab": {}
      },
      "source": [
        "!wget https://raw.githubusercontent.com/GoogleCloudPlatform/keras-idiomatic-programmer/master/zoo/resnet/resnet_cifar10.py"
      ],
      "execution_count": 0,
      "outputs": []
    },
    {
      "cell_type": "code",
      "metadata": {
        "id": "gu3QWkkK37QC",
        "colab_type": "code",
        "colab": {}
      },
      "source": [
        "from tensorflow.keras.layers import *\n",
        "from tensorflow.keras.models import *\n",
        "from wandb.keras import WandbCallback\n",
        "import matplotlib.pyplot as plt\n",
        "import tensorflow as tf\n",
        "import resnet_cifar10\n",
        "import numpy as np\n",
        "import cv2\n",
        "import os\n",
        "\n",
        "# Random seed fixation\n",
        "tf.random.set_seed(666)\n",
        "np.random.seed(666)"
      ],
      "execution_count": 0,
      "outputs": []
    },
    {
      "cell_type": "code",
      "metadata": {
        "id": "zAiLfgr93ioB",
        "colab_type": "code",
        "colab": {}
      },
      "source": [
        "LABELS = [\"airplane\", \"automobile\", \"bird\", \"cat\", \"deer\", \"dog\",\n",
        "\t\"frog\", \"horse\", \"ship\", \"truck\"]"
      ],
      "execution_count": 0,
      "outputs": []
    },
    {
      "cell_type": "code",
      "metadata": {
        "id": "LwDvrzAl3Mab",
        "colab_type": "code",
        "colab": {
          "base_uri": "https://localhost:8080/",
          "height": 51
        },
        "outputId": "ad6f8611-370d-4364-b7e6-756856392c78"
      },
      "source": [
        "(_, _), (x_test, y_test) = tf.keras.datasets.cifar10.load_data()\n",
        "x_test = x_test/255."
      ],
      "execution_count": 6,
      "outputs": [
        {
          "output_type": "stream",
          "text": [
            "Downloading data from https://www.cs.toronto.edu/~kriz/cifar-10-python.tar.gz\n",
            "170500096/170498071 [==============================] - 2s 0us/step\n"
          ],
          "name": "stdout"
        }
      ]
    },
    {
      "cell_type": "code",
      "metadata": {
        "id": "h_DMb7o03G4j",
        "colab_type": "code",
        "colab": {}
      },
      "source": [
        "def get_training_model(optimizer=\"sgd\"):\n",
        "    # ResNet20\n",
        "    n = 2\n",
        "    depth =  n * 9 + 2\n",
        "    n_blocks = ((depth - 2) // 9) - 1\n",
        "\n",
        "    # The input tensor\n",
        "    inputs = Input(shape=(32, 32, 3))\n",
        "\n",
        "    # The Stem Convolution Group\n",
        "    x = resnet_cifar10.stem(inputs)\n",
        "\n",
        "    # The learner\n",
        "    x = resnet_cifar10.learner(x, n_blocks)\n",
        "\n",
        "    # The Classifier for 10 classes\n",
        "    outputs = resnet_cifar10.classifier(x, 10)\n",
        "\n",
        "    # Instantiate the Model\n",
        "    model = Model(inputs, outputs)\n",
        "\n",
        "    model.compile(loss=\"sparse_categorical_crossentropy\", optimizer=optimizer, metrics=[\"accuracy\"])\n",
        "    \n",
        "    return model"
      ],
      "execution_count": 0,
      "outputs": []
    },
    {
      "cell_type": "code",
      "metadata": {
        "id": "kHLLJSeA5lFv",
        "colab_type": "code",
        "colab": {}
      },
      "source": [
        "def get_sample_test_image():\n",
        "    idx = np.random.choice(x_test.shape[0], 1)\n",
        "    plt.imshow(x_test[idx].squeeze(0))\n",
        "    plt.title(LABELS[int(y_test[idx])])\n",
        "    plt.show()\n",
        "    return idx"
      ],
      "execution_count": 0,
      "outputs": []
    },
    {
      "cell_type": "code",
      "metadata": {
        "id": "pVZ_1X7458wT",
        "colab_type": "code",
        "outputId": "82db3f60-a711-4471-f738-4945fbee92d7",
        "colab": {
          "base_uri": "https://localhost:8080/",
          "height": 281
        }
      },
      "source": [
        "# Test\n",
        "sample_image_id = get_sample_test_image()\n",
        "sample_image = x_test[sample_image_id]"
      ],
      "execution_count": 9,
      "outputs": [
        {
          "output_type": "display_data",
          "data": {
            "image/png": "[encoded data removed]",
            "text/plain": [
              "<Figure size 432x288 with 1 Axes>"
            ]
          },
          "metadata": {
            "tags": [],
            "needs_background": "light"
          }
        }
      ]
    },
    {
      "cell_type": "code",
      "metadata": {
        "id": "gDYzJEOKhnYQ",
        "colab_type": "code",
        "colab": {}
      },
      "source": [
        "def del_weights():\n",
        "    if os.path.exists(\"model-best.h5\"):\n",
        "        !rm -rf model-best.h5\n",
        "        print(\"Previous weights deleted!\")\n",
        "\n",
        "del_weights()"
      ],
      "execution_count": 0,
      "outputs": []
    },
    {
      "cell_type": "code",
      "metadata": {
        "id": "Qhxqh4gU3swU",
        "colab_type": "code",
        "colab": {}
      },
      "source": [
        "# Load the weights\n",
        "resnet_adam = get_training_model(\"adam\")\n",
        "resnet_adam_weights = wandb.restore(\"model-best.h5\", run_path=\"sayakpaul/training-bn-only/resnet-ramups-adam\")\n",
        "resnet_adam.load_weights(resnet_adam_weights.name)"
      ],
      "execution_count": 0,
      "outputs": []
    },
    {
      "cell_type": "code",
      "metadata": {
        "id": "WO-YsgY5GRZp",
        "colab_type": "code",
        "outputId": "8a0039b4-4037-4038-c566-b093a429be76",
        "colab": {
          "base_uri": "https://localhost:8080/",
          "height": 391
        }
      },
      "source": [
        "# Inspect the output shapes of the conv layers\n",
        "conv_ids = []\n",
        "for i in range(len(resnet_adam.layers)):\n",
        "\tlayer = resnet_adam.layers[i]\n",
        "\t# check for convolutional layer\n",
        "\tif \"conv\" not in layer.name:\n",
        "\t\tcontinue\n",
        "\t# summarize output shape\n",
        "\tprint(i, layer.name, layer.output.shape)\n",
        "\tconv_ids.append(i)"
      ],
      "execution_count": 13,
      "outputs": [
        {
          "output_type": "stream",
          "text": [
            "1 conv2d_166 (None, 32, 32, 16)\n",
            "4 conv2d_168 (None, 32, 32, 16)\n",
            "7 conv2d_169 (None, 32, 32, 16)\n",
            "10 conv2d_170 (None, 32, 32, 64)\n",
            "11 conv2d_167 (None, 32, 32, 64)\n",
            "15 conv2d_171 (None, 32, 32, 16)\n",
            "18 conv2d_172 (None, 32, 32, 16)\n",
            "21 conv2d_173 (None, 32, 32, 64)\n",
            "25 conv2d_175 (None, 32, 32, 64)\n",
            "28 conv2d_176 (None, 16, 16, 64)\n",
            "31 conv2d_177 (None, 16, 16, 128)\n",
            "32 conv2d_174 (None, 16, 16, 128)\n",
            "36 conv2d_178 (None, 16, 16, 64)\n",
            "39 conv2d_179 (None, 16, 16, 64)\n",
            "42 conv2d_180 (None, 16, 16, 128)\n",
            "46 conv2d_182 (None, 16, 16, 128)\n",
            "49 conv2d_183 (None, 8, 8, 128)\n",
            "52 conv2d_184 (None, 8, 8, 256)\n",
            "53 conv2d_181 (None, 8, 8, 256)\n",
            "57 conv2d_185 (None, 8, 8, 128)\n",
            "60 conv2d_186 (None, 8, 8, 128)\n",
            "63 conv2d_187 (None, 8, 8, 256)\n"
          ],
          "name": "stdout"
        }
      ]
    },
    {
      "cell_type": "code",
      "metadata": {
        "id": "xS4ozcgpaAVY",
        "colab_type": "code",
        "outputId": "9d17e58d-4bfd-465f-cbd1-ee5ed5ac5ab5",
        "colab": {
          "base_uri": "https://localhost:8080/",
          "height": 527
        }
      },
      "source": [
        "# conv layer at 10th index\n",
        "model = Model(inputs=resnet_adam.inputs, outputs=resnet_adam.layers[10].output)\n",
        "model.summary()"
      ],
      "execution_count": 14,
      "outputs": [
        {
          "output_type": "stream",
          "text": [
            "Model: \"model_2\"\n",
            "_________________________________________________________________\n",
            "Layer (type)                 Output Shape              Param #   \n",
            "=================================================================\n",
            "input_2 (InputLayer)         [(None, 32, 32, 3)]       0         \n",
            "_________________________________________________________________\n",
            "conv2d_166 (Conv2D)          (None, 32, 32, 16)        448       \n",
            "_________________________________________________________________\n",
            "batch_normalization_164 (Bat (None, 32, 32, 16)        64        \n",
            "_________________________________________________________________\n",
            "re_lu_164 (ReLU)             (None, 32, 32, 16)        0         \n",
            "_________________________________________________________________\n",
            "conv2d_168 (Conv2D)          (None, 32, 32, 16)        272       \n",
            "_________________________________________________________________\n",
            "batch_normalization_165 (Bat (None, 32, 32, 16)        64        \n",
            "_________________________________________________________________\n",
            "re_lu_165 (ReLU)             (None, 32, 32, 16)        0         \n",
            "_________________________________________________________________\n",
            "conv2d_169 (Conv2D)          (None, 32, 32, 16)        2320      \n",
            "_________________________________________________________________\n",
            "batch_normalization_166 (Bat (None, 32, 32, 16)        64        \n",
            "_________________________________________________________________\n",
            "re_lu_166 (ReLU)             (None, 32, 32, 16)        0         \n",
            "_________________________________________________________________\n",
            "conv2d_170 (Conv2D)          (None, 32, 32, 64)        1088      \n",
            "=================================================================\n",
            "Total params: 4,320\n",
            "Trainable params: 4,224\n",
            "Non-trainable params: 96\n",
            "_________________________________________________________________\n"
          ],
          "name": "stdout"
        }
      ]
    },
    {
      "cell_type": "code",
      "metadata": {
        "id": "9DRiFWUEW5bB",
        "colab_type": "code",
        "outputId": "51e643c8-ec92-462d-ddbf-c7e36941aca6",
        "colab": {
          "base_uri": "https://localhost:8080/",
          "height": 34
        }
      },
      "source": [
        "# Extending to multiple images\n",
        "few_images = []\n",
        "idx = np.random.choice(x_test.shape[0], 8)\n",
        "for single_image in idx:\n",
        "    few_images.append(x_test[single_image])\n",
        "few_images = np.array(few_images)\n",
        "\n",
        "few_images.shape"
      ],
      "execution_count": 15,
      "outputs": [
        {
          "output_type": "execute_result",
          "data": {
            "text/plain": [
              "(8, 32, 32, 3)"
            ]
          },
          "metadata": {
            "tags": []
          },
          "execution_count": 15
        }
      ]
    },
    {
      "cell_type": "code",
      "metadata": {
        "id": "2C8J4wZScYLv",
        "colab_type": "code",
        "outputId": "857257d8-ea67-4b09-d326-1bc7b91ce38f",
        "colab": {
          "base_uri": "https://localhost:8080/",
          "height": 34
        }
      },
      "source": [
        "# Extract the feature maps\n",
        "feature_maps_multi = model.predict(few_images)\n",
        "feature_maps_multi.shape"
      ],
      "execution_count": 16,
      "outputs": [
        {
          "output_type": "execute_result",
          "data": {
            "text/plain": [
              "(8, 32, 32, 64)"
            ]
          },
          "metadata": {
            "tags": []
          },
          "execution_count": 16
        }
      ]
    },
    {
      "cell_type": "code",
      "metadata": {
        "id": "Nysg4xmvemTE",
        "colab_type": "code",
        "colab": {
          "base_uri": "https://localhost:8080/",
          "height": 85
        },
        "outputId": "d2cd374f-250d-4ecf-f85d-7485b56bfa6b"
      },
      "source": [
        "wandb.init(project=\"training-bn-only\", id=\"visualization-resnet\")"
      ],
      "execution_count": 17,
      "outputs": [
        {
          "output_type": "display_data",
          "data": {
            "text/html": [
              "\n",
              "                Logging results to <a href=\"https://wandb.com\" target=\"_blank\">Weights & Biases</a> <a href=\"https://docs.wandb.com/integrations/jupyter.html\" target=\"_blank\">(Documentation)</a>.<br/>\n",
              "                Project page: <a href=\"https://app.wandb.ai/sayakpaul/training-bn-only\" target=\"_blank\">https://app.wandb.ai/sayakpaul/training-bn-only</a><br/>\n",
              "                Run page: <a href=\"https://app.wandb.ai/sayakpaul/training-bn-only/runs/visualization-resnet\" target=\"_blank\">https://app.wandb.ai/sayakpaul/training-bn-only/runs/visualization-resnet</a><br/>\n",
              "            "
            ],
            "text/plain": [
              "<IPython.core.display.HTML object>"
            ]
          },
          "metadata": {
            "tags": []
          }
        },
        {
          "output_type": "execute_result",
          "data": {
            "text/plain": [
              "W&B Run: https://app.wandb.ai/sayakpaul/training-bn-only/runs/visualization-resnet"
            ]
          },
          "metadata": {
            "tags": []
          },
          "execution_count": 17
        }
      ]
    },
    {
      "cell_type": "code",
      "metadata": {
        "id": "I39E62MRceoP",
        "colab_type": "code",
        "colab": {}
      },
      "source": [
        "# Visualize\n",
        "square = 8\n",
        "ix = 1\n",
        "fig = plt.figure(figsize=(16, 16))\n",
        "for (i, feature_map) in zip(range(square), feature_maps_multi):\n",
        "    for j in range(square):\n",
        "        ax = plt.subplot(square, square, ix)\n",
        "        ax.set_xticks([])\n",
        "        ax.set_yticks([])\n",
        "        if j == 0:\n",
        "            plt.imshow(few_images[i].squeeze())\n",
        "        else:\n",
        "            if np.ndim(feature_map) != 4:\n",
        "                feature_map = np.expand_dims(feature_map, 0)\n",
        "            plt.imshow(feature_map[0, :, :, ix-1], cmap=\"binary\")\n",
        "        ix += 1\n",
        "\n",
        "wandb.log({\"10th_conv_filter\": fig})\n",
        "plt.close()"
      ],
      "execution_count": 0,
      "outputs": []
    },
    {
      "cell_type": "markdown",
      "metadata": {
        "id": "0P6vAsqOf-2R",
        "colab_type": "text"
      },
      "source": [
        "**Note**: One may need to delete the previous model weights first. The most preferred way here is to manually download the model weights from [this run page](https://app.wandb.ai/sayakpaul/training-bn-only/runs/bn-only-adam/files?workspace=user-sayakpaul) and upload the file to Colab. "
      ]
    },
    {
      "cell_type": "code",
      "metadata": {
        "id": "9AFW-9-Ij4sF",
        "colab_type": "code",
        "colab": {}
      },
      "source": [
        "# Load the weights of BN only ResNet\n",
        "# del_weights()\n",
        "resnet_bn_adam = get_training_model(\"adam\")\n",
        "# resnet_adam_bn_weights = wandb.restore(\"model-best.h5\", run_path=\"sayakpaul/training-bn-only/bn-only-adam\")\n",
        "resnet_bn_adam.load_weights(\"model-best.h5\")"
      ],
      "execution_count": 0,
      "outputs": []
    },
    {
      "cell_type": "code",
      "metadata": {
        "id": "xPga7V_Qg9vr",
        "colab_type": "code",
        "colab": {
          "base_uri": "https://localhost:8080/",
          "height": 85
        },
        "outputId": "3d9341be-e873-47ff-c543-62ee3b79d200"
      },
      "source": [
        "wandb.init(project=\"training-bn-only\", id=\"visualization-bn-only\")"
      ],
      "execution_count": 29,
      "outputs": [
        {
          "output_type": "display_data",
          "data": {
            "text/html": [
              "\n",
              "                Logging results to <a href=\"https://wandb.com\" target=\"_blank\">Weights & Biases</a> <a href=\"https://docs.wandb.com/integrations/jupyter.html\" target=\"_blank\">(Documentation)</a>.<br/>\n",
              "                Project page: <a href=\"https://app.wandb.ai/sayakpaul/training-bn-only\" target=\"_blank\">https://app.wandb.ai/sayakpaul/training-bn-only</a><br/>\n",
              "                Run page: <a href=\"https://app.wandb.ai/sayakpaul/training-bn-only/runs/visualization-bn-only\" target=\"_blank\">https://app.wandb.ai/sayakpaul/training-bn-only/runs/visualization-bn-only</a><br/>\n",
              "            "
            ],
            "text/plain": [
              "<IPython.core.display.HTML object>"
            ]
          },
          "metadata": {
            "tags": []
          }
        },
        {
          "output_type": "execute_result",
          "data": {
            "text/plain": [
              "W&B Run: https://app.wandb.ai/sayakpaul/training-bn-only/runs/visualization-bn-only"
            ]
          },
          "metadata": {
            "tags": []
          },
          "execution_count": 29
        }
      ]
    },
    {
      "cell_type": "code",
      "metadata": {
        "id": "CBXg7QSGkW3R",
        "colab_type": "code",
        "colab": {}
      },
      "source": [
        "# conv layer at 10th index\n",
        "model = Model(inputs=resnet_bn_adam.inputs, outputs=resnet_bn_adam.layers[10].output)\n",
        "\n",
        "# Extract the feature maps\n",
        "feature_maps_multi = model.predict(few_images)\n",
        "\n",
        "# Visualize\n",
        "square = 8\n",
        "ix = 1\n",
        "fig = plt.figure(figsize=(16, 16))\n",
        "for (i, feature_map) in zip(range(square), feature_maps_multi):\n",
        "    for j in range(square):\n",
        "        ax = plt.subplot(square, square, ix)\n",
        "        ax.set_xticks([])\n",
        "        ax.set_yticks([])\n",
        "        if j == 0:\n",
        "            plt.imshow(few_images[i].squeeze())\n",
        "        else:\n",
        "            if np.ndim(feature_map) != 4:\n",
        "                feature_map = np.expand_dims(feature_map, 0)\n",
        "            plt.imshow(feature_map[0, :, :, ix-1], cmap=\"binary\")\n",
        "        ix += 1\n",
        "\n",
        "wandb.log({\"10th_conv_filter\": fig})\n",
        "plt.close()"
      ],
      "execution_count": 0,
      "outputs": []
    }
  ]
}